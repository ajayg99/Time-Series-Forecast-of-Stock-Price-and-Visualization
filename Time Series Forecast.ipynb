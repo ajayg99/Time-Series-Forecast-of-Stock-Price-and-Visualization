{
 "cells": [
  {
   "cell_type": "markdown",
   "id": "2e3d69b7-9f23-4241-b46f-7c0352a2dae9",
   "metadata": {},
   "source": [
    "GETTING DATA THROUGH TIINGO API"
   ]
  },
  {
   "cell_type": "code",
   "execution_count": 1,
   "id": "b718d98e-dbeb-494d-b8be-59ca51510ef6",
   "metadata": {},
   "outputs": [],
   "source": [
    "import pandas_datareader as data\n",
    "key= \"Fill in your key here\""
   ]
  },
  {
   "cell_type": "code",
   "execution_count": 2,
   "id": "76867802-6e70-433d-ade3-c6126c54f961",
   "metadata": {},
   "outputs": [],
   "source": [
    "df = data.get_data_tiingo('TSLA', api_key=key) #TSLA - TESLA "
   ]
  },
  {
   "cell_type": "markdown",
   "id": "03e2beb4-2eee-439e-9e24-492303c13a94",
   "metadata": {},
   "source": [
    "SAVING DATA IN LOCAL MACHINE"
   ]
  },
  {
   "cell_type": "code",
   "execution_count": 3,
   "id": "0b75a90f-afad-4237-8720-6ad3b316fcc4",
   "metadata": {},
   "outputs": [],
   "source": [
    "import pandas as pd\n",
    "df.to_csv('TSLA.csv')\n",
    "df=pd.read_csv('TSLA.csv')"
   ]
  },
  {
   "cell_type": "markdown",
   "id": "a58fddf7-2c6a-4b84-b6af-37e1291ca8ef",
   "metadata": {},
   "source": [
    "INSPECTING DATA"
   ]
  },
  {
   "cell_type": "code",
   "execution_count": 4,
   "id": "dccd62e2-602d-4261-9c0b-f67995005c4d",
   "metadata": {},
   "outputs": [
    {
     "data": {
      "text/html": [
       "<div>\n",
       "<style scoped>\n",
       "    .dataframe tbody tr th:only-of-type {\n",
       "        vertical-align: middle;\n",
       "    }\n",
       "\n",
       "    .dataframe tbody tr th {\n",
       "        vertical-align: top;\n",
       "    }\n",
       "\n",
       "    .dataframe thead th {\n",
       "        text-align: right;\n",
       "    }\n",
       "</style>\n",
       "<table border=\"1\" class=\"dataframe\">\n",
       "  <thead>\n",
       "    <tr style=\"text-align: right;\">\n",
       "      <th></th>\n",
       "      <th>symbol</th>\n",
       "      <th>date</th>\n",
       "      <th>close</th>\n",
       "      <th>high</th>\n",
       "      <th>low</th>\n",
       "      <th>open</th>\n",
       "      <th>volume</th>\n",
       "      <th>adjClose</th>\n",
       "      <th>adjHigh</th>\n",
       "      <th>adjLow</th>\n",
       "      <th>adjOpen</th>\n",
       "      <th>adjVolume</th>\n",
       "      <th>divCash</th>\n",
       "      <th>splitFactor</th>\n",
       "    </tr>\n",
       "  </thead>\n",
       "  <tbody>\n",
       "    <tr>\n",
       "      <th>0</th>\n",
       "      <td>TSLA</td>\n",
       "      <td>2016-10-06 00:00:00+00:00</td>\n",
       "      <td>201.0</td>\n",
       "      <td>204.2099</td>\n",
       "      <td>200.21</td>\n",
       "      <td>202.46</td>\n",
       "      <td>4703402</td>\n",
       "      <td>40.2</td>\n",
       "      <td>40.84198</td>\n",
       "      <td>40.042</td>\n",
       "      <td>40.492</td>\n",
       "      <td>23517010</td>\n",
       "      <td>0.0</td>\n",
       "      <td>1.0</td>\n",
       "    </tr>\n",
       "  </tbody>\n",
       "</table>\n",
       "</div>"
      ],
      "text/plain": [
       "  symbol                       date  close      high     low    open   volume  \\\n",
       "0   TSLA  2016-10-06 00:00:00+00:00  201.0  204.2099  200.21  202.46  4703402   \n",
       "\n",
       "   adjClose   adjHigh  adjLow  adjOpen  adjVolume  divCash  splitFactor  \n",
       "0      40.2  40.84198  40.042   40.492   23517010      0.0          1.0  "
      ]
     },
     "execution_count": 4,
     "metadata": {},
     "output_type": "execute_result"
    }
   ],
   "source": [
    "df.head(1)"
   ]
  },
  {
   "cell_type": "code",
   "execution_count": 5,
   "id": "4531ed8e-cac8-4ad9-92c5-275b4ee48c83",
   "metadata": {},
   "outputs": [
    {
     "data": {
      "text/html": [
       "<div>\n",
       "<style scoped>\n",
       "    .dataframe tbody tr th:only-of-type {\n",
       "        vertical-align: middle;\n",
       "    }\n",
       "\n",
       "    .dataframe tbody tr th {\n",
       "        vertical-align: top;\n",
       "    }\n",
       "\n",
       "    .dataframe thead th {\n",
       "        text-align: right;\n",
       "    }\n",
       "</style>\n",
       "<table border=\"1\" class=\"dataframe\">\n",
       "  <thead>\n",
       "    <tr style=\"text-align: right;\">\n",
       "      <th></th>\n",
       "      <th>symbol</th>\n",
       "      <th>date</th>\n",
       "      <th>close</th>\n",
       "      <th>high</th>\n",
       "      <th>low</th>\n",
       "      <th>open</th>\n",
       "      <th>volume</th>\n",
       "      <th>adjClose</th>\n",
       "      <th>adjHigh</th>\n",
       "      <th>adjLow</th>\n",
       "      <th>adjOpen</th>\n",
       "      <th>adjVolume</th>\n",
       "      <th>divCash</th>\n",
       "      <th>splitFactor</th>\n",
       "    </tr>\n",
       "  </thead>\n",
       "  <tbody>\n",
       "    <tr>\n",
       "      <th>1256</th>\n",
       "      <td>TSLA</td>\n",
       "      <td>2021-10-04 00:00:00+00:00</td>\n",
       "      <td>781.53</td>\n",
       "      <td>806.9699</td>\n",
       "      <td>776.12</td>\n",
       "      <td>796.5</td>\n",
       "      <td>30483341</td>\n",
       "      <td>781.53</td>\n",
       "      <td>806.9699</td>\n",
       "      <td>776.12</td>\n",
       "      <td>796.5</td>\n",
       "      <td>30483341</td>\n",
       "      <td>0.0</td>\n",
       "      <td>1.0</td>\n",
       "    </tr>\n",
       "  </tbody>\n",
       "</table>\n",
       "</div>"
      ],
      "text/plain": [
       "     symbol                       date   close      high     low   open  \\\n",
       "1256   TSLA  2021-10-04 00:00:00+00:00  781.53  806.9699  776.12  796.5   \n",
       "\n",
       "        volume  adjClose   adjHigh  adjLow  adjOpen  adjVolume  divCash  \\\n",
       "1256  30483341    781.53  806.9699  776.12    796.5   30483341      0.0   \n",
       "\n",
       "      splitFactor  \n",
       "1256          1.0  "
      ]
     },
     "execution_count": 5,
     "metadata": {},
     "output_type": "execute_result"
    }
   ],
   "source": [
    "df.tail(1)"
   ]
  },
  {
   "cell_type": "code",
   "execution_count": 6,
   "id": "4b4ef49f-b611-4e3b-ae08-22d63f4234ef",
   "metadata": {},
   "outputs": [
    {
     "data": {
      "text/plain": [
       "0       201.00\n",
       "1       196.61\n",
       "2       200.95\n",
       "3       200.10\n",
       "4       201.51\n",
       "         ...  \n",
       "1252    777.56\n",
       "1253    781.31\n",
       "1254    775.48\n",
       "1255    775.22\n",
       "1256    781.53\n",
       "Name: close, Length: 1257, dtype: float64"
      ]
     },
     "execution_count": 6,
     "metadata": {},
     "output_type": "execute_result"
    }
   ],
   "source": [
    "data=df['close']\n",
    "data"
   ]
  },
  {
   "cell_type": "code",
   "execution_count": 7,
   "id": "1bce3c55-0f2f-438c-abae-72157c8b2390",
   "metadata": {},
   "outputs": [
    {
     "data": {
      "text/plain": [
       "[<matplotlib.lines.Line2D at 0x2b270a6e888>]"
      ]
     },
     "execution_count": 7,
     "metadata": {},
     "output_type": "execute_result"
    },
    {
     "data": {
      "image/png": "[encoded data removed]",
      "text/plain": [
       "<Figure size 432x288 with 1 Axes>"
      ]
     },
     "metadata": {
      "needs_background": "light"
     },
     "output_type": "display_data"
    }
   ],
   "source": [
    "import matplotlib.pyplot as plt\n",
    "plt.plot(data)"
   ]
  },
  {
   "cell_type": "markdown",
   "id": "67612014-4c60-4237-b887-85bb4d81cb20",
   "metadata": {},
   "source": [
    "NORMALIZING THE DATA USING MINMAXSCALER"
   ]
  },
  {
   "cell_type": "code",
   "execution_count": 8,
   "id": "d7d8ab12-d932-4772-ad78-6fb81f01d7c6",
   "metadata": {},
   "outputs": [],
   "source": [
    "import numpy as np\n",
    "from sklearn.preprocessing import MinMaxScaler\n",
    "scaler=MinMaxScaler(feature_range=(0,1))\n",
    "data=scaler.fit_transform(np.array(data).reshape(-1,1))"
   ]
  },
  {
   "cell_type": "markdown",
   "id": "de10ee4b-671b-4d18-93ed-eefefbd1d84f",
   "metadata": {},
   "source": [
    "TRAIN & TEST SPLIT"
   ]
  },
  {
   "cell_type": "code",
   "execution_count": 9,
   "id": "e7c9a28b-b6e6-4808-963c-1de515517216",
   "metadata": {},
   "outputs": [
    {
     "data": {
      "text/plain": [
       "(817, 440)"
      ]
     },
     "execution_count": 9,
     "metadata": {},
     "output_type": "execute_result"
    }
   ],
   "source": [
    "train_size=int(len(data)*0.65) #Training size 65% of data\n",
    "test_size=len(data)-train_size  #Testing size 35% of data\n",
    "train_data,test_data=data[0:train_size,:],data[train_size:len(data),:1]\n",
    "train_size,test_size"
   ]
  },
  {
   "cell_type": "code",
   "execution_count": 10,
   "id": "afd59022-69ea-48a2-9f83-5c70e8239ea0",
   "metadata": {},
   "outputs": [],
   "source": [
    "import numpy\n",
    "# convert an array of values into a dataset matrix\n",
    "def create_dataset(dataset, time_step=1):\n",
    "    dataX, dataY = [], []\n",
    "    for i in range(len(dataset)-time_step-1):\n",
    "        a = dataset[i:(i+time_step),0]         #if timestep =100 , i=0, 0,1,2,3-----99  ---> Total(100) \n",
    "        dataX.append(a)\n",
    "        dataY.append(dataset[i + time_step,0]) #timestep+1 as output\n",
    "    return numpy.array(dataX), numpy.array(dataY)"
   ]
  },
  {
   "cell_type": "code",
   "execution_count": 11,
   "id": "f79a8b61-c022-4594-9b02-e089ed728489",
   "metadata": {},
   "outputs": [
    {
     "name": "stdout",
     "output_type": "stream",
     "text": [
      "(339, 100)\n",
      "(339,)\n"
     ]
    },
    {
     "data": {
      "text/plain": [
       "(None, None)"
      ]
     },
     "execution_count": 11,
     "metadata": {},
     "output_type": "execute_result"
    }
   ],
   "source": [
    "time_step = 100\n",
    "X_train, y_train = create_dataset(train_data, time_step)\n",
    "X_test,  ytest   = create_dataset(test_data, time_step)\n",
    "print(X_test.shape), print(ytest.shape)\n"
   ]
  },
  {
   "cell_type": "code",
   "execution_count": 12,
   "id": "21986ec5-7ae0-43a7-b258-d1a1963fd956",
   "metadata": {},
   "outputs": [
    {
     "name": "stdout",
     "output_type": "stream",
     "text": [
      "(339, 100, 1)\n",
      "(339,)\n"
     ]
    },
    {
     "data": {
      "text/plain": [
       "(None, None)"
      ]
     },
     "execution_count": 12,
     "metadata": {},
     "output_type": "execute_result"
    }
   ],
   "source": [
    "X_train =X_train.reshape(X_train.shape[0],X_train.shape[1] , 1)\n",
    "X_test = X_test.reshape(X_test.shape[0],X_test.shape[1] , 1)\n",
    "print(X_test.shape), print(ytest.shape)"
   ]
  },
  {
   "cell_type": "code",
   "execution_count": 13,
   "id": "3b69dace-2dd8-4c23-b134-58ddf563ad54",
   "metadata": {},
   "outputs": [],
   "source": [
    "### Create the Stacked LSTM model\n",
    "from tensorflow.keras.models import Sequential\n",
    "from tensorflow.keras.layers import Dense\n",
    "from tensorflow.keras.layers import LSTM\n",
    "from tensorflow.keras.layers import Dropout\n",
    "model=Sequential()\n",
    "model.add(LSTM(50,return_sequences=True,input_shape=(100,1)))\n",
    "model.add(LSTM(50,return_sequences=True))\n",
    "model.add(LSTM(50))\n",
    "model.add(Dropout(0.2))  \n",
    "model.add(Dense(1))\n",
    "model.compile(loss='mean_squared_error',optimizer='Nadam')"
   ]
  },
  {
   "cell_type": "code",
   "execution_count": 14,
   "id": "0720e48b-148f-450b-86ca-0c24a0ceab22",
   "metadata": {},
   "outputs": [
    {
     "name": "stdout",
     "output_type": "stream",
     "text": [
      "Model: \"sequential\"\n",
      "_________________________________________________________________\n",
      "Layer (type)                 Output Shape              Param #   \n",
      "=================================================================\n",
      "lstm (LSTM)                  (None, 100, 50)           10400     \n",
      "_________________________________________________________________\n",
      "lstm_1 (LSTM)                (None, 100, 50)           20200     \n",
      "_________________________________________________________________\n",
      "lstm_2 (LSTM)                (None, 50)                20200     \n",
      "_________________________________________________________________\n",
      "dropout (Dropout)            (None, 50)                0         \n",
      "_________________________________________________________________\n",
      "dense (Dense)                (None, 1)                 51        \n",
      "=================================================================\n",
      "Total params: 50,851\n",
      "Trainable params: 50,851\n",
      "Non-trainable params: 0\n",
      "_________________________________________________________________\n"
     ]
    }
   ],
   "source": [
    "model.summary()"
   ]
  },
  {
   "cell_type": "code",
   "execution_count": 38,
   "id": "8c19f297-9fa9-4456-923c-cffc6b8154c7",
   "metadata": {},
   "outputs": [
    {
     "name": "stdout",
     "output_type": "stream",
     "text": [
      "Train on 716 samples, validate on 339 samples\n",
      "Epoch 1/100\n",
      "716/716 [==============================] - 4s 5ms/sample - loss: 5.6772e-05 - val_loss: 0.0042\n",
      "Epoch 2/100\n",
      "716/716 [==============================] - 3s 5ms/sample - loss: 5.1236e-05 - val_loss: 0.0042\n",
      "Epoch 3/100\n",
      "716/716 [==============================] - 3s 5ms/sample - loss: 4.1156e-05 - val_loss: 0.0044\n",
      "Epoch 4/100\n",
      "716/716 [==============================] - 3s 5ms/sample - loss: 4.7405e-05 - val_loss: 0.0036\n",
      "Epoch 5/100\n",
      "716/716 [==============================] - 3s 5ms/sample - loss: 4.2627e-05 - val_loss: 0.0045\n",
      "Epoch 6/100\n",
      "716/716 [==============================] - 3s 4ms/sample - loss: 3.9531e-05 - val_loss: 0.0035\n",
      "Epoch 7/100\n",
      "716/716 [==============================] - 3s 4ms/sample - loss: 3.9515e-05 - val_loss: 0.0028\n",
      "Epoch 8/100\n",
      "716/716 [==============================] - 3s 4ms/sample - loss: 3.5024e-05 - val_loss: 0.0031\n",
      "Epoch 9/100\n",
      "716/716 [==============================] - 3s 4ms/sample - loss: 3.7551e-05 - val_loss: 0.0040\n",
      "Epoch 10/100\n",
      "716/716 [==============================] - 3s 4ms/sample - loss: 3.4265e-05 - val_loss: 0.0033\n",
      "Epoch 11/100\n",
      "716/716 [==============================] - 3s 4ms/sample - loss: 3.6463e-05 - val_loss: 0.0026\n",
      "Epoch 12/100\n",
      "716/716 [==============================] - 3s 4ms/sample - loss: 3.4913e-05 - val_loss: 0.0032\n",
      "Epoch 13/100\n",
      "716/716 [==============================] - 3s 5ms/sample - loss: 3.3624e-05 - val_loss: 0.0031\n",
      "Epoch 14/100\n",
      "716/716 [==============================] - 3s 5ms/sample - loss: 3.6150e-05 - val_loss: 0.0031\n",
      "Epoch 15/100\n",
      "716/716 [==============================] - 3s 4ms/sample - loss: 3.1350e-05 - val_loss: 0.0025\n",
      "Epoch 16/100\n",
      "716/716 [==============================] - 3s 5ms/sample - loss: 2.7776e-05 - val_loss: 0.0029\n",
      "Epoch 17/100\n",
      "716/716 [==============================] - 3s 5ms/sample - loss: 2.9713e-05 - val_loss: 0.0029\n",
      "Epoch 18/100\n",
      "716/716 [==============================] - 3s 4ms/sample - loss: 2.9231e-05 - val_loss: 0.0027\n",
      "Epoch 19/100\n",
      "716/716 [==============================] - 3s 5ms/sample - loss: 3.3868e-05 - val_loss: 0.0025\n",
      "Epoch 20/100\n",
      "716/716 [==============================] - 3s 4ms/sample - loss: 2.6717e-05 - val_loss: 0.0033\n",
      "Epoch 21/100\n",
      "716/716 [==============================] - 3s 5ms/sample - loss: 2.7424e-05 - val_loss: 0.0026\n",
      "Epoch 22/100\n",
      "716/716 [==============================] - 3s 5ms/sample - loss: 3.1544e-05 - val_loss: 0.0025\n",
      "Epoch 23/100\n",
      "716/716 [==============================] - 3s 4ms/sample - loss: 2.9253e-05 - val_loss: 0.0034\n",
      "Epoch 24/100\n",
      "716/716 [==============================] - 3s 4ms/sample - loss: 3.0750e-05 - val_loss: 0.0029\n",
      "Epoch 25/100\n",
      "716/716 [==============================] - 3s 4ms/sample - loss: 2.9774e-05 - val_loss: 0.0027\n",
      "Epoch 26/100\n",
      "716/716 [==============================] - 3s 5ms/sample - loss: 2.7959e-05 - val_loss: 0.0025\n",
      "Epoch 27/100\n",
      "716/716 [==============================] - 3s 5ms/sample - loss: 3.2409e-05 - val_loss: 0.0027\n",
      "Epoch 28/100\n",
      "716/716 [==============================] - 3s 4ms/sample - loss: 3.0174e-05 - val_loss: 0.0023\n",
      "Epoch 29/100\n",
      "716/716 [==============================] - 3s 4ms/sample - loss: 2.8285e-05 - val_loss: 0.0025\n",
      "Epoch 30/100\n",
      "716/716 [==============================] - 3s 4ms/sample - loss: 2.7903e-05 - val_loss: 0.0027\n",
      "Epoch 31/100\n",
      "716/716 [==============================] - 3s 5ms/sample - loss: 2.8317e-05 - val_loss: 0.0026\n",
      "Epoch 32/100\n",
      "716/716 [==============================] - 3s 4ms/sample - loss: 2.9805e-05 - val_loss: 0.0030\n",
      "Epoch 33/100\n",
      "716/716 [==============================] - 3s 5ms/sample - loss: 3.1334e-05 - val_loss: 0.0023\n",
      "Epoch 34/100\n",
      "716/716 [==============================] - 3s 4ms/sample - loss: 2.9061e-05 - val_loss: 0.0028\n",
      "Epoch 35/100\n",
      "716/716 [==============================] - 3s 5ms/sample - loss: 2.7695e-05 - val_loss: 0.0031\n",
      "Epoch 36/100\n",
      "716/716 [==============================] - 3s 4ms/sample - loss: 2.8384e-05 - val_loss: 0.0024\n",
      "Epoch 37/100\n",
      "716/716 [==============================] - 3s 4ms/sample - loss: 2.8631e-05 - val_loss: 0.0026\n",
      "Epoch 38/100\n",
      "716/716 [==============================] - 4s 6ms/sample - loss: 2.7244e-05 - val_loss: 0.0022\n",
      "Epoch 39/100\n",
      "716/716 [==============================] - 3s 4ms/sample - loss: 2.7269e-05 - val_loss: 0.0024\n",
      "Epoch 40/100\n",
      "716/716 [==============================] - 3s 5ms/sample - loss: 3.0259e-05 - val_loss: 0.0029\n",
      "Epoch 41/100\n",
      "716/716 [==============================] - 3s 5ms/sample - loss: 2.8886e-05 - val_loss: 0.0027\n",
      "Epoch 42/100\n",
      "716/716 [==============================] - 3s 4ms/sample - loss: 2.8565e-05 - val_loss: 0.0025\n",
      "Epoch 43/100\n",
      "716/716 [==============================] - 3s 5ms/sample - loss: 2.7240e-05 - val_loss: 0.0029\n",
      "Epoch 44/100\n",
      "716/716 [==============================] - 3s 5ms/sample - loss: 2.7706e-05 - val_loss: 0.0025\n",
      "Epoch 45/100\n",
      "716/716 [==============================] - 3s 4ms/sample - loss: 2.5584e-05 - val_loss: 0.0022\n",
      "Epoch 46/100\n",
      "716/716 [==============================] - 3s 5ms/sample - loss: 2.5291e-05 - val_loss: 0.0025\n",
      "Epoch 47/100\n",
      "716/716 [==============================] - 3s 4ms/sample - loss: 2.8687e-05 - val_loss: 0.0022\n",
      "Epoch 48/100\n",
      "716/716 [==============================] - 3s 5ms/sample - loss: 2.6989e-05 - val_loss: 0.0024\n",
      "Epoch 49/100\n",
      "716/716 [==============================] - 3s 5ms/sample - loss: 2.8701e-05 - val_loss: 0.0027\n",
      "Epoch 50/100\n",
      "716/716 [==============================] - 3s 4ms/sample - loss: 2.7408e-05 - val_loss: 0.0024\n",
      "Epoch 51/100\n",
      "716/716 [==============================] - 3s 4ms/sample - loss: 2.7407e-05 - val_loss: 0.0022\n",
      "Epoch 52/100\n",
      "716/716 [==============================] - 3s 5ms/sample - loss: 2.6474e-05 - val_loss: 0.0025loss: 2.6231e-0\n",
      "Epoch 53/100\n",
      "716/716 [==============================] - 3s 5ms/sample - loss: 2.6809e-05 - val_loss: 0.0025\n",
      "Epoch 54/100\n",
      "716/716 [==============================] - 3s 5ms/sample - loss: 2.6259e-05 - val_loss: 0.0025\n",
      "Epoch 55/100\n",
      "716/716 [==============================] - 3s 4ms/sample - loss: 2.8140e-05 - val_loss: 0.0023\n",
      "Epoch 56/100\n",
      "716/716 [==============================] - 3s 5ms/sample - loss: 2.6605e-05 - val_loss: 0.0023\n",
      "Epoch 57/100\n",
      "716/716 [==============================] - 3s 4ms/sample - loss: 2.7700e-05 - val_loss: 0.0023\n",
      "Epoch 58/100\n",
      "716/716 [==============================] - 3s 4ms/sample - loss: 2.6595e-05 - val_loss: 0.0030\n",
      "Epoch 59/100\n",
      "716/716 [==============================] - 3s 5ms/sample - loss: 2.7146e-05 - val_loss: 0.0027\n",
      "Epoch 60/100\n",
      "716/716 [==============================] - 3s 4ms/sample - loss: 2.7726e-05 - val_loss: 0.0024\n",
      "Epoch 61/100\n",
      "716/716 [==============================] - 3s 4ms/sample - loss: 2.4744e-05 - val_loss: 0.0024\n",
      "Epoch 62/100\n",
      "716/716 [==============================] - 3s 5ms/sample - loss: 2.7200e-05 - val_loss: 0.0024\n",
      "Epoch 63/100\n",
      "716/716 [==============================] - 3s 4ms/sample - loss: 3.0596e-05 - val_loss: 0.0022\n",
      "Epoch 64/100\n",
      "716/716 [==============================] - 3s 4ms/sample - loss: 2.8020e-05 - val_loss: 0.0026\n",
      "Epoch 65/100\n",
      "716/716 [==============================] - 3s 4ms/sample - loss: 2.6756e-05 - val_loss: 0.0029\n",
      "Epoch 66/100\n",
      "716/716 [==============================] - 3s 4ms/sample - loss: 2.5455e-05 - val_loss: 0.0023\n",
      "Epoch 67/100\n",
      "716/716 [==============================] - 3s 5ms/sample - loss: 2.8806e-05 - val_loss: 0.0028\n",
      "Epoch 68/100\n",
      "716/716 [==============================] - 3s 4ms/sample - loss: 2.7617e-05 - val_loss: 0.0023\n",
      "Epoch 69/100\n",
      "716/716 [==============================] - 3s 5ms/sample - loss: 2.7652e-05 - val_loss: 0.0022\n",
      "Epoch 70/100\n",
      "716/716 [==============================] - 3s 4ms/sample - loss: 2.6385e-05 - val_loss: 0.0023\n",
      "Epoch 71/100\n",
      "716/716 [==============================] - 3s 5ms/sample - loss: 2.7657e-05 - val_loss: 0.0023\n",
      "Epoch 72/100\n",
      "716/716 [==============================] - 3s 5ms/sample - loss: 2.6838e-05 - val_loss: 0.0024\n",
      "Epoch 73/100\n",
      "716/716 [==============================] - 3s 5ms/sample - loss: 2.6108e-05 - val_loss: 0.0028-0\n",
      "Epoch 74/100\n",
      "716/716 [==============================] - 3s 5ms/sample - loss: 2.5971e-05 - val_loss: 0.0026\n",
      "Epoch 75/100\n",
      "716/716 [==============================] - 3s 4ms/sample - loss: 2.4621e-05 - val_loss: 0.0028\n",
      "Epoch 76/100\n",
      "716/716 [==============================] - 3s 5ms/sample - loss: 2.7268e-05 - val_loss: 0.0024\n",
      "Epoch 77/100\n",
      "716/716 [==============================] - 3s 4ms/sample - loss: 2.5229e-05 - val_loss: 0.0027\n",
      "Epoch 78/100\n",
      "716/716 [==============================] - 3s 4ms/sample - loss: 2.7750e-05 - val_loss: 0.0029\n",
      "Epoch 79/100\n",
      "716/716 [==============================] - 3s 4ms/sample - loss: 2.5915e-05 - val_loss: 0.0022\n",
      "Epoch 80/100\n",
      "716/716 [==============================] - 3s 4ms/sample - loss: 2.6480e-05 - val_loss: 0.0026\n",
      "Epoch 81/100\n",
      "716/716 [==============================] - 3s 4ms/sample - loss: 2.5666e-05 - val_loss: 0.0022\n",
      "Epoch 82/100\n",
      "716/716 [==============================] - 3s 4ms/sample - loss: 2.6443e-05 - val_loss: 0.0022\n",
      "Epoch 83/100\n",
      "716/716 [==============================] - 3s 4ms/sample - loss: 2.9131e-05 - val_loss: 0.0027\n",
      "Epoch 84/100\n",
      "716/716 [==============================] - 3s 4ms/sample - loss: 2.7488e-05 - val_loss: 0.0025\n",
      "Epoch 85/100\n",
      "716/716 [==============================] - 3s 4ms/sample - loss: 2.6385e-05 - val_loss: 0.0022\n",
      "Epoch 86/100\n",
      "716/716 [==============================] - 3s 4ms/sample - loss: 2.6626e-05 - val_loss: 0.0032\n",
      "Epoch 87/100\n",
      "716/716 [==============================] - 3s 4ms/sample - loss: 2.5758e-05 - val_loss: 0.0024\n",
      "Epoch 88/100\n",
      "716/716 [==============================] - 3s 5ms/sample - loss: 2.5788e-05 - val_loss: 0.0023\n",
      "Epoch 89/100\n",
      "716/716 [==============================] - 3s 4ms/sample - loss: 2.8024e-05 - val_loss: 0.0023\n",
      "Epoch 90/100\n",
      "716/716 [==============================] - 3s 4ms/sample - loss: 2.5904e-05 - val_loss: 0.0025\n",
      "Epoch 91/100\n",
      "716/716 [==============================] - 3s 5ms/sample - loss: 2.6808e-05 - val_loss: 0.0024\n",
      "Epoch 92/100\n",
      "716/716 [==============================] - 3s 4ms/sample - loss: 2.5304e-05 - val_loss: 0.0024\n",
      "Epoch 93/100\n",
      "716/716 [==============================] - 3s 4ms/sample - loss: 2.6978e-05 - val_loss: 0.0024\n",
      "Epoch 94/100\n",
      "716/716 [==============================] - 3s 4ms/sample - loss: 2.7684e-05 - val_loss: 0.0028\n",
      "Epoch 95/100\n",
      "716/716 [==============================] - 3s 4ms/sample - loss: 2.5691e-05 - val_loss: 0.0024\n",
      "Epoch 96/100\n",
      "716/716 [==============================] - 3s 4ms/sample - loss: 2.5764e-05 - val_loss: 0.0023\n",
      "Epoch 97/100\n",
      "716/716 [==============================] - 3s 4ms/sample - loss: 2.5652e-05 - val_loss: 0.0024\n",
      "Epoch 98/100\n",
      "716/716 [==============================] - 3s 4ms/sample - loss: 2.5056e-05 - val_loss: 0.0023\n",
      "Epoch 99/100\n",
      "716/716 [==============================] - 3s 5ms/sample - loss: 2.7086e-05 - val_loss: 0.0023\n",
      "Epoch 100/100\n",
      "716/716 [==============================] - 3s 4ms/sample - loss: 2.5198e-05 - val_loss: 0.0023\n"
     ]
    },
    {
     "data": {
      "text/plain": [
       "<tensorflow.python.keras.callbacks.History at 0x2b3693dad48>"
      ]
     },
     "execution_count": 38,
     "metadata": {},
     "output_type": "execute_result"
    }
   ],
   "source": [
    "model.fit(X_train,y_train,validation_data=(X_test,ytest),epochs=100,batch_size=15,verbose=1)"
   ]
  },
  {
   "cell_type": "code",
   "execution_count": 16,
   "id": "98c13e2c-6511-47f9-a12b-0a8d9a685858",
   "metadata": {},
   "outputs": [],
   "source": [
    "train_predict=model.predict(X_train)\n",
    "test_predict=model.predict(X_test)"
   ]
  },
  {
   "cell_type": "code",
   "execution_count": 17,
   "id": "5c58cdd0-fa6b-4a9b-877d-b135a99b477e",
   "metadata": {},
   "outputs": [],
   "source": [
    "train_predict=scaler.inverse_transform(train_predict)\n",
    "test_predict=scaler.inverse_transform(test_predict)"
   ]
  },
  {
   "cell_type": "code",
   "execution_count": 18,
   "id": "36ff4000-3290-44a3-929c-04d5f5b042a9",
   "metadata": {},
   "outputs": [
    {
     "data": {
      "text/plain": [
       "310.1635345694963"
      ]
     },
     "execution_count": 18,
     "metadata": {},
     "output_type": "execute_result"
    }
   ],
   "source": [
    "import math\n",
    "from sklearn.metrics import mean_squared_error\n",
    "math.sqrt(mean_squared_error(y_train,train_predict))"
   ]
  },
  {
   "cell_type": "code",
   "execution_count": 19,
   "id": "cf240547-8483-42ed-8cb1-1d0f9caa9398",
   "metadata": {},
   "outputs": [
    {
     "data": {
      "text/plain": [
       "757.8892673966201"
      ]
     },
     "execution_count": 19,
     "metadata": {},
     "output_type": "execute_result"
    }
   ],
   "source": [
    "### Test Data RMSE\n",
    "math.sqrt(mean_squared_error(ytest,test_predict))"
   ]
  },
  {
   "cell_type": "code",
   "execution_count": 20,
   "id": "8f07660d-bcec-4825-9e01-bb9e374e87e6",
   "metadata": {},
   "outputs": [
    {
     "data": {
      "image/png": "[encoded data removed]",
      "text/plain": [
       "<Figure size 432x288 with 1 Axes>"
      ]
     },
     "metadata": {
      "needs_background": "light"
     },
     "output_type": "display_data"
    }
   ],
   "source": [
    "### Plotting \n",
    "# shift train predictions for plotting\n",
    "look_back=100\n",
    "trainPredictPlot = numpy.empty_like(data)\n",
    "trainPredictPlot[:, :] = np.nan\n",
    "trainPredictPlot[look_back:len(train_predict)+look_back, :] = train_predict\n",
    "# shift test predictions for plotting\n",
    "testPredictPlot = numpy.empty_like(data)\n",
    "testPredictPlot[:, :] = numpy.nan\n",
    "testPredictPlot[len(train_predict)+(look_back*2)+1:len(data)-1, :] = test_predict\n",
    "# plot baseline and predictions\n",
    "plt.plot(scaler.inverse_transform(data))\n",
    "plt.plot(trainPredictPlot)\n",
    "plt.plot(testPredictPlot)\n",
    "plt.show()"
   ]
  },
  {
   "cell_type": "code",
   "execution_count": 21,
   "id": "9c56d6ba-fd03-441b-9140-154d49b16e47",
   "metadata": {},
   "outputs": [
    {
     "data": {
      "text/plain": [
       "440"
      ]
     },
     "execution_count": 21,
     "metadata": {},
     "output_type": "execute_result"
    }
   ],
   "source": [
    "len(test_data)"
   ]
  },
  {
   "cell_type": "code",
   "execution_count": 22,
   "id": "83ce2587-344a-4292-a49f-172217c002d8",
   "metadata": {},
   "outputs": [
    {
     "data": {
      "text/plain": [
       "(1, 100)"
      ]
     },
     "execution_count": 22,
     "metadata": {},
     "output_type": "execute_result"
    }
   ],
   "source": [
    "x_input=test_data[340:].reshape(1,-1)\n",
    "temp_input=list(x_input)\n",
    "temp_input=temp_input[0].tolist()\n",
    "x_input.shape\n"
   ]
  },
  {
   "cell_type": "markdown",
   "id": "d5691fa1-2d78-43e5-95d7-1ec29a09bfa8",
   "metadata": {},
   "source": [
    "PREDCITION FOR  THE NEXT DAY 30 DAY"
   ]
  },
  {
   "cell_type": "code",
   "execution_count": 23,
   "id": "ee7e6b8a-ab9a-421e-8913-76478fbf02bb",
   "metadata": {},
   "outputs": [
    {
     "name": "stdout",
     "output_type": "stream",
     "text": [
      "[0.25870347]\n",
      "101\n",
      "1 day input [0.19942421 0.19315655 0.19366146 0.18666557 0.19798716 0.19512278\n",
      " 0.20753187 0.20668227 0.21369272 0.21938265 0.21664935 0.21600851\n",
      " 0.20689103 0.19121945 0.20394411 0.20689588 0.20614823 0.20381303\n",
      " 0.20931847 0.20920681 0.21299362 0.20409461 0.20676966 0.21246444\n",
      " 0.21572207 0.21451806 0.21591626 0.23186942 0.24315704 0.2392974\n",
      " 0.24747789 0.2436134  0.24309878 0.24223461 0.24271039 0.23333074\n",
      " 0.2260824  0.23004399 0.23205391 0.24601171 0.23768072 0.23032071\n",
      " 0.22897106 0.22587364 0.22684461 0.23377739 0.231248   0.2283205\n",
      " 0.22546583 0.23237919 0.22614551 0.22721359 0.24195788 0.24673994\n",
      " 0.25764888 0.25768286 0.25825574 0.2600569  0.25251726 0.25963452\n",
      " 0.25780423 0.25675072 0.26375632 0.26129004 0.24623989 0.23630679\n",
      " 0.24760897 0.24007418 0.24337065 0.25601278 0.257076   0.25839167\n",
      " 0.25351737 0.25874122 0.26796066 0.27029586 0.26950451 0.26867918\n",
      " 0.26925206 0.27864626 0.27910748 0.27958811 0.27056288 0.27383021\n",
      " 0.27455359 0.28005904 0.2806222  0.28183592 0.26760139 0.27207275\n",
      " 0.27817048 0.27899582 0.28906971 0.29730845 0.29060871 0.29242929\n",
      " 0.28959889 0.28947266 0.2925361  0.25870347]\n",
      "1 day output [[0.24782878]]\n",
      "2 day input [0.19315655 0.19366146 0.18666557 0.19798716 0.19512278 0.20753187\n",
      " 0.20668227 0.21369272 0.21938265 0.21664935 0.21600851 0.20689103\n",
      " 0.19121945 0.20394411 0.20689588 0.20614823 0.20381303 0.20931847\n",
      " 0.20920681 0.21299362 0.20409461 0.20676966 0.21246444 0.21572207\n",
      " 0.21451806 0.21591626 0.23186942 0.24315704 0.2392974  0.24747789\n",
      " 0.2436134  0.24309878 0.24223461 0.24271039 0.23333074 0.2260824\n",
      " 0.23004399 0.23205391 0.24601171 0.23768072 0.23032071 0.22897106\n",
      " 0.22587364 0.22684461 0.23377739 0.231248   0.2283205  0.22546583\n",
      " 0.23237919 0.22614551 0.22721359 0.24195788 0.24673994 0.25764888\n",
      " 0.25768286 0.25825574 0.2600569  0.25251726 0.25963452 0.25780423\n",
      " 0.25675072 0.26375632 0.26129004 0.24623989 0.23630679 0.24760897\n",
      " 0.24007418 0.24337065 0.25601278 0.257076   0.25839167 0.25351737\n",
      " 0.25874122 0.26796066 0.27029586 0.26950451 0.26867918 0.26925206\n",
      " 0.27864626 0.27910748 0.27958811 0.27056288 0.27383021 0.27455359\n",
      " 0.28005904 0.2806222  0.28183592 0.26760139 0.27207275 0.27817048\n",
      " 0.27899582 0.28906971 0.29730845 0.29060871 0.29242929 0.28959889\n",
      " 0.28947266 0.2925361  0.25870347 0.24782878]\n",
      "2 day output [[0.2319591]]\n",
      "3 day input [0.19366146 0.18666557 0.19798716 0.19512278 0.20753187 0.20668227\n",
      " 0.21369272 0.21938265 0.21664935 0.21600851 0.20689103 0.19121945\n",
      " 0.20394411 0.20689588 0.20614823 0.20381303 0.20931847 0.20920681\n",
      " 0.21299362 0.20409461 0.20676966 0.21246444 0.21572207 0.21451806\n",
      " 0.21591626 0.23186942 0.24315704 0.2392974  0.24747789 0.2436134\n",
      " 0.24309878 0.24223461 0.24271039 0.23333074 0.2260824  0.23004399\n",
      " 0.23205391 0.24601171 0.23768072 0.23032071 0.22897106 0.22587364\n",
      " 0.22684461 0.23377739 0.231248   0.2283205  0.22546583 0.23237919\n",
      " 0.22614551 0.22721359 0.24195788 0.24673994 0.25764888 0.25768286\n",
      " 0.25825574 0.2600569  0.25251726 0.25963452 0.25780423 0.25675072\n",
      " 0.26375632 0.26129004 0.24623989 0.23630679 0.24760897 0.24007418\n",
      " 0.24337065 0.25601278 0.257076   0.25839167 0.25351737 0.25874122\n",
      " 0.26796066 0.27029586 0.26950451 0.26867918 0.26925206 0.27864626\n",
      " 0.27910748 0.27958811 0.27056288 0.27383021 0.27455359 0.28005904\n",
      " 0.2806222  0.28183592 0.26760139 0.27207275 0.27817048 0.27899582\n",
      " 0.28906971 0.29730845 0.29060871 0.29242929 0.28959889 0.28947266\n",
      " 0.2925361  0.25870347 0.24782878 0.2319591 ]\n",
      "3 day output [[0.21524301]]\n",
      "4 day input [0.18666557 0.19798716 0.19512278 0.20753187 0.20668227 0.21369272\n",
      " 0.21938265 0.21664935 0.21600851 0.20689103 0.19121945 0.20394411\n",
      " 0.20689588 0.20614823 0.20381303 0.20931847 0.20920681 0.21299362\n",
      " 0.20409461 0.20676966 0.21246444 0.21572207 0.21451806 0.21591626\n",
      " 0.23186942 0.24315704 0.2392974  0.24747789 0.2436134  0.24309878\n",
      " 0.24223461 0.24271039 0.23333074 0.2260824  0.23004399 0.23205391\n",
      " 0.24601171 0.23768072 0.23032071 0.22897106 0.22587364 0.22684461\n",
      " 0.23377739 0.231248   0.2283205  0.22546583 0.23237919 0.22614551\n",
      " 0.22721359 0.24195788 0.24673994 0.25764888 0.25768286 0.25825574\n",
      " 0.2600569  0.25251726 0.25963452 0.25780423 0.25675072 0.26375632\n",
      " 0.26129004 0.24623989 0.23630679 0.24760897 0.24007418 0.24337065\n",
      " 0.25601278 0.257076   0.25839167 0.25351737 0.25874122 0.26796066\n",
      " 0.27029586 0.26950451 0.26867918 0.26925206 0.27864626 0.27910748\n",
      " 0.27958811 0.27056288 0.27383021 0.27455359 0.28005904 0.2806222\n",
      " 0.28183592 0.26760139 0.27207275 0.27817048 0.27899582 0.28906971\n",
      " 0.29730845 0.29060871 0.29242929 0.28959889 0.28947266 0.2925361\n",
      " 0.25870347 0.24782878 0.2319591  0.21524301]\n",
      "4 day output [[0.19960025]]\n",
      "5 day input [0.19798716 0.19512278 0.20753187 0.20668227 0.21369272 0.21938265\n",
      " 0.21664935 0.21600851 0.20689103 0.19121945 0.20394411 0.20689588\n",
      " 0.20614823 0.20381303 0.20931847 0.20920681 0.21299362 0.20409461\n",
      " 0.20676966 0.21246444 0.21572207 0.21451806 0.21591626 0.23186942\n",
      " 0.24315704 0.2392974  0.24747789 0.2436134  0.24309878 0.24223461\n",
      " 0.24271039 0.23333074 0.2260824  0.23004399 0.23205391 0.24601171\n",
      " 0.23768072 0.23032071 0.22897106 0.22587364 0.22684461 0.23377739\n",
      " 0.231248   0.2283205  0.22546583 0.23237919 0.22614551 0.22721359\n",
      " 0.24195788 0.24673994 0.25764888 0.25768286 0.25825574 0.2600569\n",
      " 0.25251726 0.25963452 0.25780423 0.25675072 0.26375632 0.26129004\n",
      " 0.24623989 0.23630679 0.24760897 0.24007418 0.24337065 0.25601278\n",
      " 0.257076   0.25839167 0.25351737 0.25874122 0.26796066 0.27029586\n",
      " 0.26950451 0.26867918 0.26925206 0.27864626 0.27910748 0.27958811\n",
      " 0.27056288 0.27383021 0.27455359 0.28005904 0.2806222  0.28183592\n",
      " 0.26760139 0.27207275 0.27817048 0.27899582 0.28906971 0.29730845\n",
      " 0.29060871 0.29242929 0.28959889 0.28947266 0.2925361  0.25870347\n",
      " 0.24782878 0.2319591  0.21524301 0.19960025]\n",
      "5 day output [[0.18579242]]\n",
      "6 day input [0.19512278 0.20753187 0.20668227 0.21369272 0.21938265 0.21664935\n",
      " 0.21600851 0.20689103 0.19121945 0.20394411 0.20689588 0.20614823\n",
      " 0.20381303 0.20931847 0.20920681 0.21299362 0.20409461 0.20676966\n",
      " 0.21246444 0.21572207 0.21451806 0.21591626 0.23186942 0.24315704\n",
      " 0.2392974  0.24747789 0.2436134  0.24309878 0.24223461 0.24271039\n",
      " 0.23333074 0.2260824  0.23004399 0.23205391 0.24601171 0.23768072\n",
      " 0.23032071 0.22897106 0.22587364 0.22684461 0.23377739 0.231248\n",
      " 0.2283205  0.22546583 0.23237919 0.22614551 0.22721359 0.24195788\n",
      " 0.24673994 0.25764888 0.25768286 0.25825574 0.2600569  0.25251726\n",
      " 0.25963452 0.25780423 0.25675072 0.26375632 0.26129004 0.24623989\n",
      " 0.23630679 0.24760897 0.24007418 0.24337065 0.25601278 0.257076\n",
      " 0.25839167 0.25351737 0.25874122 0.26796066 0.27029586 0.26950451\n",
      " 0.26867918 0.26925206 0.27864626 0.27910748 0.27958811 0.27056288\n",
      " 0.27383021 0.27455359 0.28005904 0.2806222  0.28183592 0.26760139\n",
      " 0.27207275 0.27817048 0.27899582 0.28906971 0.29730845 0.29060871\n",
      " 0.29242929 0.28959889 0.28947266 0.2925361  0.25870347 0.24782878\n",
      " 0.2319591  0.21524301 0.19960025 0.18579242]\n",
      "6 day output [[0.17409214]]\n",
      "7 day input [0.20753187 0.20668227 0.21369272 0.21938265 0.21664935 0.21600851\n",
      " 0.20689103 0.19121945 0.20394411 0.20689588 0.20614823 0.20381303\n",
      " 0.20931847 0.20920681 0.21299362 0.20409461 0.20676966 0.21246444\n",
      " 0.21572207 0.21451806 0.21591626 0.23186942 0.24315704 0.2392974\n",
      " 0.24747789 0.2436134  0.24309878 0.24223461 0.24271039 0.23333074\n",
      " 0.2260824  0.23004399 0.23205391 0.24601171 0.23768072 0.23032071\n",
      " 0.22897106 0.22587364 0.22684461 0.23377739 0.231248   0.2283205\n",
      " 0.22546583 0.23237919 0.22614551 0.22721359 0.24195788 0.24673994\n",
      " 0.25764888 0.25768286 0.25825574 0.2600569  0.25251726 0.25963452\n",
      " 0.25780423 0.25675072 0.26375632 0.26129004 0.24623989 0.23630679\n",
      " 0.24760897 0.24007418 0.24337065 0.25601278 0.257076   0.25839167\n",
      " 0.25351737 0.25874122 0.26796066 0.27029586 0.26950451 0.26867918\n",
      " 0.26925206 0.27864626 0.27910748 0.27958811 0.27056288 0.27383021\n",
      " 0.27455359 0.28005904 0.2806222  0.28183592 0.26760139 0.27207275\n",
      " 0.27817048 0.27899582 0.28906971 0.29730845 0.29060871 0.29242929\n",
      " 0.28959889 0.28947266 0.2925361  0.25870347 0.24782878 0.2319591\n",
      " 0.21524301 0.19960025 0.18579242 0.17409214]\n",
      "7 day output [[0.16451493]]\n",
      "8 day input [0.20668227 0.21369272 0.21938265 0.21664935 0.21600851 0.20689103\n",
      " 0.19121945 0.20394411 0.20689588 0.20614823 0.20381303 0.20931847\n",
      " 0.20920681 0.21299362 0.20409461 0.20676966 0.21246444 0.21572207\n",
      " 0.21451806 0.21591626 0.23186942 0.24315704 0.2392974  0.24747789\n",
      " 0.2436134  0.24309878 0.24223461 0.24271039 0.23333074 0.2260824\n",
      " 0.23004399 0.23205391 0.24601171 0.23768072 0.23032071 0.22897106\n",
      " 0.22587364 0.22684461 0.23377739 0.231248   0.2283205  0.22546583\n",
      " 0.23237919 0.22614551 0.22721359 0.24195788 0.24673994 0.25764888\n",
      " 0.25768286 0.25825574 0.2600569  0.25251726 0.25963452 0.25780423\n",
      " 0.25675072 0.26375632 0.26129004 0.24623989 0.23630679 0.24760897\n",
      " 0.24007418 0.24337065 0.25601278 0.257076   0.25839167 0.25351737\n",
      " 0.25874122 0.26796066 0.27029586 0.26950451 0.26867918 0.26925206\n",
      " 0.27864626 0.27910748 0.27958811 0.27056288 0.27383021 0.27455359\n",
      " 0.28005904 0.2806222  0.28183592 0.26760139 0.27207275 0.27817048\n",
      " 0.27899582 0.28906971 0.29730845 0.29060871 0.29242929 0.28959889\n",
      " 0.28947266 0.2925361  0.25870347 0.24782878 0.2319591  0.21524301\n",
      " 0.19960025 0.18579242 0.17409214 0.16451493]\n",
      "8 day output [[0.15689771]]\n",
      "9 day input [0.21369272 0.21938265 0.21664935 0.21600851 0.20689103 0.19121945\n",
      " 0.20394411 0.20689588 0.20614823 0.20381303 0.20931847 0.20920681\n",
      " 0.21299362 0.20409461 0.20676966 0.21246444 0.21572207 0.21451806\n",
      " 0.21591626 0.23186942 0.24315704 0.2392974  0.24747789 0.2436134\n",
      " 0.24309878 0.24223461 0.24271039 0.23333074 0.2260824  0.23004399\n",
      " 0.23205391 0.24601171 0.23768072 0.23032071 0.22897106 0.22587364\n",
      " 0.22684461 0.23377739 0.231248   0.2283205  0.22546583 0.23237919\n",
      " 0.22614551 0.22721359 0.24195788 0.24673994 0.25764888 0.25768286\n",
      " 0.25825574 0.2600569  0.25251726 0.25963452 0.25780423 0.25675072\n",
      " 0.26375632 0.26129004 0.24623989 0.23630679 0.24760897 0.24007418\n",
      " 0.24337065 0.25601278 0.257076   0.25839167 0.25351737 0.25874122\n",
      " 0.26796066 0.27029586 0.26950451 0.26867918 0.26925206 0.27864626\n",
      " 0.27910748 0.27958811 0.27056288 0.27383021 0.27455359 0.28005904\n",
      " 0.2806222  0.28183592 0.26760139 0.27207275 0.27817048 0.27899582\n",
      " 0.28906971 0.29730845 0.29060871 0.29242929 0.28959889 0.28947266\n",
      " 0.2925361  0.25870347 0.24782878 0.2319591  0.21524301 0.19960025\n",
      " 0.18579242 0.17409214 0.16451493 0.15689771]\n",
      "9 day output [[0.15095347]]\n",
      "10 day input [0.21938265 0.21664935 0.21600851 0.20689103 0.19121945 0.20394411\n",
      " 0.20689588 0.20614823 0.20381303 0.20931847 0.20920681 0.21299362\n",
      " 0.20409461 0.20676966 0.21246444 0.21572207 0.21451806 0.21591626\n",
      " 0.23186942 0.24315704 0.2392974  0.24747789 0.2436134  0.24309878\n",
      " 0.24223461 0.24271039 0.23333074 0.2260824  0.23004399 0.23205391\n",
      " 0.24601171 0.23768072 0.23032071 0.22897106 0.22587364 0.22684461\n",
      " 0.23377739 0.231248   0.2283205  0.22546583 0.23237919 0.22614551\n",
      " 0.22721359 0.24195788 0.24673994 0.25764888 0.25768286 0.25825574\n",
      " 0.2600569  0.25251726 0.25963452 0.25780423 0.25675072 0.26375632\n",
      " 0.26129004 0.24623989 0.23630679 0.24760897 0.24007418 0.24337065\n",
      " 0.25601278 0.257076   0.25839167 0.25351737 0.25874122 0.26796066\n",
      " 0.27029586 0.26950451 0.26867918 0.26925206 0.27864626 0.27910748\n",
      " 0.27958811 0.27056288 0.27383021 0.27455359 0.28005904 0.2806222\n",
      " 0.28183592 0.26760139 0.27207275 0.27817048 0.27899582 0.28906971\n",
      " 0.29730845 0.29060871 0.29242929 0.28959889 0.28947266 0.2925361\n",
      " 0.25870347 0.24782878 0.2319591  0.21524301 0.19960025 0.18579242\n",
      " 0.17409214 0.16451493 0.15689771 0.15095347]\n",
      "10 day output [[0.14632705]]\n",
      "11 day input [0.21664935 0.21600851 0.20689103 0.19121945 0.20394411 0.20689588\n",
      " 0.20614823 0.20381303 0.20931847 0.20920681 0.21299362 0.20409461\n",
      " 0.20676966 0.21246444 0.21572207 0.21451806 0.21591626 0.23186942\n",
      " 0.24315704 0.2392974  0.24747789 0.2436134  0.24309878 0.24223461\n",
      " 0.24271039 0.23333074 0.2260824  0.23004399 0.23205391 0.24601171\n",
      " 0.23768072 0.23032071 0.22897106 0.22587364 0.22684461 0.23377739\n",
      " 0.231248   0.2283205  0.22546583 0.23237919 0.22614551 0.22721359\n",
      " 0.24195788 0.24673994 0.25764888 0.25768286 0.25825574 0.2600569\n",
      " 0.25251726 0.25963452 0.25780423 0.25675072 0.26375632 0.26129004\n",
      " 0.24623989 0.23630679 0.24760897 0.24007418 0.24337065 0.25601278\n",
      " 0.257076   0.25839167 0.25351737 0.25874122 0.26796066 0.27029586\n",
      " 0.26950451 0.26867918 0.26925206 0.27864626 0.27910748 0.27958811\n",
      " 0.27056288 0.27383021 0.27455359 0.28005904 0.2806222  0.28183592\n",
      " 0.26760139 0.27207275 0.27817048 0.27899582 0.28906971 0.29730845\n",
      " 0.29060871 0.29242929 0.28959889 0.28947266 0.2925361  0.25870347\n",
      " 0.24782878 0.2319591  0.21524301 0.19960025 0.18579242 0.17409214\n",
      " 0.16451493 0.15689771 0.15095347 0.14632705]\n",
      "11 day output [[0.14264679]]\n",
      "12 day input [0.21600851 0.20689103 0.19121945 0.20394411 0.20689588 0.20614823\n",
      " 0.20381303 0.20931847 0.20920681 0.21299362 0.20409461 0.20676966\n",
      " 0.21246444 0.21572207 0.21451806 0.21591626 0.23186942 0.24315704\n",
      " 0.2392974  0.24747789 0.2436134  0.24309878 0.24223461 0.24271039\n",
      " 0.23333074 0.2260824  0.23004399 0.23205391 0.24601171 0.23768072\n",
      " 0.23032071 0.22897106 0.22587364 0.22684461 0.23377739 0.231248\n",
      " 0.2283205  0.22546583 0.23237919 0.22614551 0.22721359 0.24195788\n",
      " 0.24673994 0.25764888 0.25768286 0.25825574 0.2600569  0.25251726\n",
      " 0.25963452 0.25780423 0.25675072 0.26375632 0.26129004 0.24623989\n",
      " 0.23630679 0.24760897 0.24007418 0.24337065 0.25601278 0.257076\n",
      " 0.25839167 0.25351737 0.25874122 0.26796066 0.27029586 0.26950451\n",
      " 0.26867918 0.26925206 0.27864626 0.27910748 0.27958811 0.27056288\n",
      " 0.27383021 0.27455359 0.28005904 0.2806222  0.28183592 0.26760139\n",
      " 0.27207275 0.27817048 0.27899582 0.28906971 0.29730845 0.29060871\n",
      " 0.29242929 0.28959889 0.28947266 0.2925361  0.25870347 0.24782878\n",
      " 0.2319591  0.21524301 0.19960025 0.18579242 0.17409214 0.16451493\n",
      " 0.15689771 0.15095347 0.14632705 0.14264679]\n",
      "12 day output [[0.13956673]]\n",
      "13 day input [0.20689103 0.19121945 0.20394411 0.20689588 0.20614823 0.20381303\n",
      " 0.20931847 0.20920681 0.21299362 0.20409461 0.20676966 0.21246444\n",
      " 0.21572207 0.21451806 0.21591626 0.23186942 0.24315704 0.2392974\n",
      " 0.24747789 0.2436134  0.24309878 0.24223461 0.24271039 0.23333074\n",
      " 0.2260824  0.23004399 0.23205391 0.24601171 0.23768072 0.23032071\n",
      " 0.22897106 0.22587364 0.22684461 0.23377739 0.231248   0.2283205\n",
      " 0.22546583 0.23237919 0.22614551 0.22721359 0.24195788 0.24673994\n",
      " 0.25764888 0.25768286 0.25825574 0.2600569  0.25251726 0.25963452\n",
      " 0.25780423 0.25675072 0.26375632 0.26129004 0.24623989 0.23630679\n",
      " 0.24760897 0.24007418 0.24337065 0.25601278 0.257076   0.25839167\n",
      " 0.25351737 0.25874122 0.26796066 0.27029586 0.26950451 0.26867918\n",
      " 0.26925206 0.27864626 0.27910748 0.27958811 0.27056288 0.27383021\n",
      " 0.27455359 0.28005904 0.2806222  0.28183592 0.26760139 0.27207275\n",
      " 0.27817048 0.27899582 0.28906971 0.29730845 0.29060871 0.29242929\n",
      " 0.28959889 0.28947266 0.2925361  0.25870347 0.24782878 0.2319591\n",
      " 0.21524301 0.19960025 0.18579242 0.17409214 0.16451493 0.15689771\n",
      " 0.15095347 0.14632705 0.14264679 0.13956673]\n",
      "13 day output [[0.13679525]]\n",
      "14 day input [0.19121945 0.20394411 0.20689588 0.20614823 0.20381303 0.20931847\n",
      " 0.20920681 0.21299362 0.20409461 0.20676966 0.21246444 0.21572207\n",
      " 0.21451806 0.21591626 0.23186942 0.24315704 0.2392974  0.24747789\n",
      " 0.2436134  0.24309878 0.24223461 0.24271039 0.23333074 0.2260824\n",
      " 0.23004399 0.23205391 0.24601171 0.23768072 0.23032071 0.22897106\n",
      " 0.22587364 0.22684461 0.23377739 0.231248   0.2283205  0.22546583\n",
      " 0.23237919 0.22614551 0.22721359 0.24195788 0.24673994 0.25764888\n",
      " 0.25768286 0.25825574 0.2600569  0.25251726 0.25963452 0.25780423\n",
      " 0.25675072 0.26375632 0.26129004 0.24623989 0.23630679 0.24760897\n",
      " 0.24007418 0.24337065 0.25601278 0.257076   0.25839167 0.25351737\n",
      " 0.25874122 0.26796066 0.27029586 0.26950451 0.26867918 0.26925206\n",
      " 0.27864626 0.27910748 0.27958811 0.27056288 0.27383021 0.27455359\n",
      " 0.28005904 0.2806222  0.28183592 0.26760139 0.27207275 0.27817048\n",
      " 0.27899582 0.28906971 0.29730845 0.29060871 0.29242929 0.28959889\n",
      " 0.28947266 0.2925361  0.25870347 0.24782878 0.2319591  0.21524301\n",
      " 0.19960025 0.18579242 0.17409214 0.16451493 0.15689771 0.15095347\n",
      " 0.14632705 0.14264679 0.13956673 0.13679525]\n",
      "14 day output [[0.13411121]]\n",
      "15 day input [0.20394411 0.20689588 0.20614823 0.20381303 0.20931847 0.20920681\n",
      " 0.21299362 0.20409461 0.20676966 0.21246444 0.21572207 0.21451806\n",
      " 0.21591626 0.23186942 0.24315704 0.2392974  0.24747789 0.2436134\n",
      " 0.24309878 0.24223461 0.24271039 0.23333074 0.2260824  0.23004399\n",
      " 0.23205391 0.24601171 0.23768072 0.23032071 0.22897106 0.22587364\n",
      " 0.22684461 0.23377739 0.231248   0.2283205  0.22546583 0.23237919\n",
      " 0.22614551 0.22721359 0.24195788 0.24673994 0.25764888 0.25768286\n",
      " 0.25825574 0.2600569  0.25251726 0.25963452 0.25780423 0.25675072\n",
      " 0.26375632 0.26129004 0.24623989 0.23630679 0.24760897 0.24007418\n",
      " 0.24337065 0.25601278 0.257076   0.25839167 0.25351737 0.25874122\n",
      " 0.26796066 0.27029586 0.26950451 0.26867918 0.26925206 0.27864626\n",
      " 0.27910748 0.27958811 0.27056288 0.27383021 0.27455359 0.28005904\n",
      " 0.2806222  0.28183592 0.26760139 0.27207275 0.27817048 0.27899582\n",
      " 0.28906971 0.29730845 0.29060871 0.29242929 0.28959889 0.28947266\n",
      " 0.2925361  0.25870347 0.24782878 0.2319591  0.21524301 0.19960025\n",
      " 0.18579242 0.17409214 0.16451493 0.15689771 0.15095347 0.14632705\n",
      " 0.14264679 0.13956673 0.13679525 0.13411121]\n",
      "15 day output [[0.1313687]]\n",
      "16 day input [0.20689588 0.20614823 0.20381303 0.20931847 0.20920681 0.21299362\n",
      " 0.20409461 0.20676966 0.21246444 0.21572207 0.21451806 0.21591626\n",
      " 0.23186942 0.24315704 0.2392974  0.24747789 0.2436134  0.24309878\n",
      " 0.24223461 0.24271039 0.23333074 0.2260824  0.23004399 0.23205391\n",
      " 0.24601171 0.23768072 0.23032071 0.22897106 0.22587364 0.22684461\n",
      " 0.23377739 0.231248   0.2283205  0.22546583 0.23237919 0.22614551\n",
      " 0.22721359 0.24195788 0.24673994 0.25764888 0.25768286 0.25825574\n",
      " 0.2600569  0.25251726 0.25963452 0.25780423 0.25675072 0.26375632\n",
      " 0.26129004 0.24623989 0.23630679 0.24760897 0.24007418 0.24337065\n",
      " 0.25601278 0.257076   0.25839167 0.25351737 0.25874122 0.26796066\n",
      " 0.27029586 0.26950451 0.26867918 0.26925206 0.27864626 0.27910748\n",
      " 0.27958811 0.27056288 0.27383021 0.27455359 0.28005904 0.2806222\n",
      " 0.28183592 0.26760139 0.27207275 0.27817048 0.27899582 0.28906971\n",
      " 0.29730845 0.29060871 0.29242929 0.28959889 0.28947266 0.2925361\n",
      " 0.25870347 0.24782878 0.2319591  0.21524301 0.19960025 0.18579242\n",
      " 0.17409214 0.16451493 0.15689771 0.15095347 0.14632705 0.14264679\n",
      " 0.13956673 0.13679525 0.13411121 0.1313687 ]\n",
      "16 day output [[0.12849261]]\n",
      "17 day input [0.20614823 0.20381303 0.20931847 0.20920681 0.21299362 0.20409461\n",
      " 0.20676966 0.21246444 0.21572207 0.21451806 0.21591626 0.23186942\n",
      " 0.24315704 0.2392974  0.24747789 0.2436134  0.24309878 0.24223461\n",
      " 0.24271039 0.23333074 0.2260824  0.23004399 0.23205391 0.24601171\n",
      " 0.23768072 0.23032071 0.22897106 0.22587364 0.22684461 0.23377739\n",
      " 0.231248   0.2283205  0.22546583 0.23237919 0.22614551 0.22721359\n",
      " 0.24195788 0.24673994 0.25764888 0.25768286 0.25825574 0.2600569\n",
      " 0.25251726 0.25963452 0.25780423 0.25675072 0.26375632 0.26129004\n",
      " 0.24623989 0.23630679 0.24760897 0.24007418 0.24337065 0.25601278\n",
      " 0.257076   0.25839167 0.25351737 0.25874122 0.26796066 0.27029586\n",
      " 0.26950451 0.26867918 0.26925206 0.27864626 0.27910748 0.27958811\n",
      " 0.27056288 0.27383021 0.27455359 0.28005904 0.2806222  0.28183592\n",
      " 0.26760139 0.27207275 0.27817048 0.27899582 0.28906971 0.29730845\n",
      " 0.29060871 0.29242929 0.28959889 0.28947266 0.2925361  0.25870347\n",
      " 0.24782878 0.2319591  0.21524301 0.19960025 0.18579242 0.17409214\n",
      " 0.16451493 0.15689771 0.15095347 0.14632705 0.14264679 0.13956673\n",
      " 0.13679525 0.13411121 0.1313687  0.12849261]\n",
      "17 day output [[0.12546787]]\n",
      "18 day input [0.20381303 0.20931847 0.20920681 0.21299362 0.20409461 0.20676966\n",
      " 0.21246444 0.21572207 0.21451806 0.21591626 0.23186942 0.24315704\n",
      " 0.2392974  0.24747789 0.2436134  0.24309878 0.24223461 0.24271039\n",
      " 0.23333074 0.2260824  0.23004399 0.23205391 0.24601171 0.23768072\n",
      " 0.23032071 0.22897106 0.22587364 0.22684461 0.23377739 0.231248\n",
      " 0.2283205  0.22546583 0.23237919 0.22614551 0.22721359 0.24195788\n",
      " 0.24673994 0.25764888 0.25768286 0.25825574 0.2600569  0.25251726\n",
      " 0.25963452 0.25780423 0.25675072 0.26375632 0.26129004 0.24623989\n",
      " 0.23630679 0.24760897 0.24007418 0.24337065 0.25601278 0.257076\n",
      " 0.25839167 0.25351737 0.25874122 0.26796066 0.27029586 0.26950451\n",
      " 0.26867918 0.26925206 0.27864626 0.27910748 0.27958811 0.27056288\n",
      " 0.27383021 0.27455359 0.28005904 0.2806222  0.28183592 0.26760139\n",
      " 0.27207275 0.27817048 0.27899582 0.28906971 0.29730845 0.29060871\n",
      " 0.29242929 0.28959889 0.28947266 0.2925361  0.25870347 0.24782878\n",
      " 0.2319591  0.21524301 0.19960025 0.18579242 0.17409214 0.16451493\n",
      " 0.15689771 0.15095347 0.14632705 0.14264679 0.13956673 0.13679525\n",
      " 0.13411121 0.1313687  0.12849261 0.12546787]\n",
      "18 day output [[0.12232468]]\n",
      "19 day input [0.20931847 0.20920681 0.21299362 0.20409461 0.20676966 0.21246444\n",
      " 0.21572207 0.21451806 0.21591626 0.23186942 0.24315704 0.2392974\n",
      " 0.24747789 0.2436134  0.24309878 0.24223461 0.24271039 0.23333074\n",
      " 0.2260824  0.23004399 0.23205391 0.24601171 0.23768072 0.23032071\n",
      " 0.22897106 0.22587364 0.22684461 0.23377739 0.231248   0.2283205\n",
      " 0.22546583 0.23237919 0.22614551 0.22721359 0.24195788 0.24673994\n",
      " 0.25764888 0.25768286 0.25825574 0.2600569  0.25251726 0.25963452\n",
      " 0.25780423 0.25675072 0.26375632 0.26129004 0.24623989 0.23630679\n",
      " 0.24760897 0.24007418 0.24337065 0.25601278 0.257076   0.25839167\n",
      " 0.25351737 0.25874122 0.26796066 0.27029586 0.26950451 0.26867918\n",
      " 0.26925206 0.27864626 0.27910748 0.27958811 0.27056288 0.27383021\n",
      " 0.27455359 0.28005904 0.2806222  0.28183592 0.26760139 0.27207275\n",
      " 0.27817048 0.27899582 0.28906971 0.29730845 0.29060871 0.29242929\n",
      " 0.28959889 0.28947266 0.2925361  0.25870347 0.24782878 0.2319591\n",
      " 0.21524301 0.19960025 0.18579242 0.17409214 0.16451493 0.15689771\n",
      " 0.15095347 0.14632705 0.14264679 0.13956673 0.13679525 0.13411121\n",
      " 0.1313687  0.12849261 0.12546787 0.12232468]\n",
      "19 day output [[0.11912263]]\n",
      "20 day input [0.20920681 0.21299362 0.20409461 0.20676966 0.21246444 0.21572207\n",
      " 0.21451806 0.21591626 0.23186942 0.24315704 0.2392974  0.24747789\n",
      " 0.2436134  0.24309878 0.24223461 0.24271039 0.23333074 0.2260824\n",
      " 0.23004399 0.23205391 0.24601171 0.23768072 0.23032071 0.22897106\n",
      " 0.22587364 0.22684461 0.23377739 0.231248   0.2283205  0.22546583\n",
      " 0.23237919 0.22614551 0.22721359 0.24195788 0.24673994 0.25764888\n",
      " 0.25768286 0.25825574 0.2600569  0.25251726 0.25963452 0.25780423\n",
      " 0.25675072 0.26375632 0.26129004 0.24623989 0.23630679 0.24760897\n",
      " 0.24007418 0.24337065 0.25601278 0.257076   0.25839167 0.25351737\n",
      " 0.25874122 0.26796066 0.27029586 0.26950451 0.26867918 0.26925206\n",
      " 0.27864626 0.27910748 0.27958811 0.27056288 0.27383021 0.27455359\n",
      " 0.28005904 0.2806222  0.28183592 0.26760139 0.27207275 0.27817048\n",
      " 0.27899582 0.28906971 0.29730845 0.29060871 0.29242929 0.28959889\n",
      " 0.28947266 0.2925361  0.25870347 0.24782878 0.2319591  0.21524301\n",
      " 0.19960025 0.18579242 0.17409214 0.16451493 0.15689771 0.15095347\n",
      " 0.14632705 0.14264679 0.13956673 0.13679525 0.13411121 0.1313687\n",
      " 0.12849261 0.12546787 0.12232468 0.11912263]\n",
      "20 day output [[0.11593541]]\n",
      "21 day input [0.21299362 0.20409461 0.20676966 0.21246444 0.21572207 0.21451806\n",
      " 0.21591626 0.23186942 0.24315704 0.2392974  0.24747789 0.2436134\n",
      " 0.24309878 0.24223461 0.24271039 0.23333074 0.2260824  0.23004399\n",
      " 0.23205391 0.24601171 0.23768072 0.23032071 0.22897106 0.22587364\n",
      " 0.22684461 0.23377739 0.231248   0.2283205  0.22546583 0.23237919\n",
      " 0.22614551 0.22721359 0.24195788 0.24673994 0.25764888 0.25768286\n",
      " 0.25825574 0.2600569  0.25251726 0.25963452 0.25780423 0.25675072\n",
      " 0.26375632 0.26129004 0.24623989 0.23630679 0.24760897 0.24007418\n",
      " 0.24337065 0.25601278 0.257076   0.25839167 0.25351737 0.25874122\n",
      " 0.26796066 0.27029586 0.26950451 0.26867918 0.26925206 0.27864626\n",
      " 0.27910748 0.27958811 0.27056288 0.27383021 0.27455359 0.28005904\n",
      " 0.2806222  0.28183592 0.26760139 0.27207275 0.27817048 0.27899582\n",
      " 0.28906971 0.29730845 0.29060871 0.29242929 0.28959889 0.28947266\n",
      " 0.2925361  0.25870347 0.24782878 0.2319591  0.21524301 0.19960025\n",
      " 0.18579242 0.17409214 0.16451493 0.15689771 0.15095347 0.14632705\n",
      " 0.14264679 0.13956673 0.13679525 0.13411121 0.1313687  0.12849261\n",
      " 0.12546787 0.12232468 0.11912263 0.11593541]\n",
      "21 day output [[0.11283767]]\n",
      "22 day input [0.20409461 0.20676966 0.21246444 0.21572207 0.21451806 0.21591626\n",
      " 0.23186942 0.24315704 0.2392974  0.24747789 0.2436134  0.24309878\n",
      " 0.24223461 0.24271039 0.23333074 0.2260824  0.23004399 0.23205391\n",
      " 0.24601171 0.23768072 0.23032071 0.22897106 0.22587364 0.22684461\n",
      " 0.23377739 0.231248   0.2283205  0.22546583 0.23237919 0.22614551\n",
      " 0.22721359 0.24195788 0.24673994 0.25764888 0.25768286 0.25825574\n",
      " 0.2600569  0.25251726 0.25963452 0.25780423 0.25675072 0.26375632\n",
      " 0.26129004 0.24623989 0.23630679 0.24760897 0.24007418 0.24337065\n",
      " 0.25601278 0.257076   0.25839167 0.25351737 0.25874122 0.26796066\n",
      " 0.27029586 0.26950451 0.26867918 0.26925206 0.27864626 0.27910748\n",
      " 0.27958811 0.27056288 0.27383021 0.27455359 0.28005904 0.2806222\n",
      " 0.28183592 0.26760139 0.27207275 0.27817048 0.27899582 0.28906971\n",
      " 0.29730845 0.29060871 0.29242929 0.28959889 0.28947266 0.2925361\n",
      " 0.25870347 0.24782878 0.2319591  0.21524301 0.19960025 0.18579242\n",
      " 0.17409214 0.16451493 0.15689771 0.15095347 0.14632705 0.14264679\n",
      " 0.13956673 0.13679525 0.13411121 0.1313687  0.12849261 0.12546787\n",
      " 0.12232468 0.11912263 0.11593541 0.11283767]\n",
      "22 day output [[0.10989522]]\n",
      "23 day input [0.20676966 0.21246444 0.21572207 0.21451806 0.21591626 0.23186942\n",
      " 0.24315704 0.2392974  0.24747789 0.2436134  0.24309878 0.24223461\n",
      " 0.24271039 0.23333074 0.2260824  0.23004399 0.23205391 0.24601171\n",
      " 0.23768072 0.23032071 0.22897106 0.22587364 0.22684461 0.23377739\n",
      " 0.231248   0.2283205  0.22546583 0.23237919 0.22614551 0.22721359\n",
      " 0.24195788 0.24673994 0.25764888 0.25768286 0.25825574 0.2600569\n",
      " 0.25251726 0.25963452 0.25780423 0.25675072 0.26375632 0.26129004\n",
      " 0.24623989 0.23630679 0.24760897 0.24007418 0.24337065 0.25601278\n",
      " 0.257076   0.25839167 0.25351737 0.25874122 0.26796066 0.27029586\n",
      " 0.26950451 0.26867918 0.26925206 0.27864626 0.27910748 0.27958811\n",
      " 0.27056288 0.27383021 0.27455359 0.28005904 0.2806222  0.28183592\n",
      " 0.26760139 0.27207275 0.27817048 0.27899582 0.28906971 0.29730845\n",
      " 0.29060871 0.29242929 0.28959889 0.28947266 0.2925361  0.25870347\n",
      " 0.24782878 0.2319591  0.21524301 0.19960025 0.18579242 0.17409214\n",
      " 0.16451493 0.15689771 0.15095347 0.14632705 0.14264679 0.13956673\n",
      " 0.13679525 0.13411121 0.1313687  0.12849261 0.12546787 0.12232468\n",
      " 0.11912263 0.11593541 0.11283767 0.10989522]\n",
      "23 day output [[0.10715863]]\n",
      "24 day input [0.21246444 0.21572207 0.21451806 0.21591626 0.23186942 0.24315704\n",
      " 0.2392974  0.24747789 0.2436134  0.24309878 0.24223461 0.24271039\n",
      " 0.23333074 0.2260824  0.23004399 0.23205391 0.24601171 0.23768072\n",
      " 0.23032071 0.22897106 0.22587364 0.22684461 0.23377739 0.231248\n",
      " 0.2283205  0.22546583 0.23237919 0.22614551 0.22721359 0.24195788\n",
      " 0.24673994 0.25764888 0.25768286 0.25825574 0.2600569  0.25251726\n",
      " 0.25963452 0.25780423 0.25675072 0.26375632 0.26129004 0.24623989\n",
      " 0.23630679 0.24760897 0.24007418 0.24337065 0.25601278 0.257076\n",
      " 0.25839167 0.25351737 0.25874122 0.26796066 0.27029586 0.26950451\n",
      " 0.26867918 0.26925206 0.27864626 0.27910748 0.27958811 0.27056288\n",
      " 0.27383021 0.27455359 0.28005904 0.2806222  0.28183592 0.26760139\n",
      " 0.27207275 0.27817048 0.27899582 0.28906971 0.29730845 0.29060871\n",
      " 0.29242929 0.28959889 0.28947266 0.2925361  0.25870347 0.24782878\n",
      " 0.2319591  0.21524301 0.19960025 0.18579242 0.17409214 0.16451493\n",
      " 0.15689771 0.15095347 0.14632705 0.14264679 0.13956673 0.13679525\n",
      " 0.13411121 0.1313687  0.12849261 0.12546787 0.12232468 0.11912263\n",
      " 0.11593541 0.11283767 0.10989522 0.10715863]\n",
      "24 day output [[0.1046601]]\n",
      "25 day input [0.21572207 0.21451806 0.21591626 0.23186942 0.24315704 0.2392974\n",
      " 0.24747789 0.2436134  0.24309878 0.24223461 0.24271039 0.23333074\n",
      " 0.2260824  0.23004399 0.23205391 0.24601171 0.23768072 0.23032071\n",
      " 0.22897106 0.22587364 0.22684461 0.23377739 0.231248   0.2283205\n",
      " 0.22546583 0.23237919 0.22614551 0.22721359 0.24195788 0.24673994\n",
      " 0.25764888 0.25768286 0.25825574 0.2600569  0.25251726 0.25963452\n",
      " 0.25780423 0.25675072 0.26375632 0.26129004 0.24623989 0.23630679\n",
      " 0.24760897 0.24007418 0.24337065 0.25601278 0.257076   0.25839167\n",
      " 0.25351737 0.25874122 0.26796066 0.27029586 0.26950451 0.26867918\n",
      " 0.26925206 0.27864626 0.27910748 0.27958811 0.27056288 0.27383021\n",
      " 0.27455359 0.28005904 0.2806222  0.28183592 0.26760139 0.27207275\n",
      " 0.27817048 0.27899582 0.28906971 0.29730845 0.29060871 0.29242929\n",
      " 0.28959889 0.28947266 0.2925361  0.25870347 0.24782878 0.2319591\n",
      " 0.21524301 0.19960025 0.18579242 0.17409214 0.16451493 0.15689771\n",
      " 0.15095347 0.14632705 0.14264679 0.13956673 0.13679525 0.13411121\n",
      " 0.1313687  0.12849261 0.12546787 0.12232468 0.11912263 0.11593541\n",
      " 0.11283767 0.10989522 0.10715863 0.1046601 ]\n",
      "25 day output [[0.10241336]]\n",
      "26 day input [0.21451806 0.21591626 0.23186942 0.24315704 0.2392974  0.24747789\n",
      " 0.2436134  0.24309878 0.24223461 0.24271039 0.23333074 0.2260824\n",
      " 0.23004399 0.23205391 0.24601171 0.23768072 0.23032071 0.22897106\n",
      " 0.22587364 0.22684461 0.23377739 0.231248   0.2283205  0.22546583\n",
      " 0.23237919 0.22614551 0.22721359 0.24195788 0.24673994 0.25764888\n",
      " 0.25768286 0.25825574 0.2600569  0.25251726 0.25963452 0.25780423\n",
      " 0.25675072 0.26375632 0.26129004 0.24623989 0.23630679 0.24760897\n",
      " 0.24007418 0.24337065 0.25601278 0.257076   0.25839167 0.25351737\n",
      " 0.25874122 0.26796066 0.27029586 0.26950451 0.26867918 0.26925206\n",
      " 0.27864626 0.27910748 0.27958811 0.27056288 0.27383021 0.27455359\n",
      " 0.28005904 0.2806222  0.28183592 0.26760139 0.27207275 0.27817048\n",
      " 0.27899582 0.28906971 0.29730845 0.29060871 0.29242929 0.28959889\n",
      " 0.28947266 0.2925361  0.25870347 0.24782878 0.2319591  0.21524301\n",
      " 0.19960025 0.18579242 0.17409214 0.16451493 0.15689771 0.15095347\n",
      " 0.14632705 0.14264679 0.13956673 0.13679525 0.13411121 0.1313687\n",
      " 0.12849261 0.12546787 0.12232468 0.11912263 0.11593541 0.11283767\n",
      " 0.10989522 0.10715863 0.1046601  0.10241336]\n",
      "26 day output [[0.10041555]]\n",
      "27 day input [0.21591626 0.23186942 0.24315704 0.2392974  0.24747789 0.2436134\n",
      " 0.24309878 0.24223461 0.24271039 0.23333074 0.2260824  0.23004399\n",
      " 0.23205391 0.24601171 0.23768072 0.23032071 0.22897106 0.22587364\n",
      " 0.22684461 0.23377739 0.231248   0.2283205  0.22546583 0.23237919\n",
      " 0.22614551 0.22721359 0.24195788 0.24673994 0.25764888 0.25768286\n",
      " 0.25825574 0.2600569  0.25251726 0.25963452 0.25780423 0.25675072\n",
      " 0.26375632 0.26129004 0.24623989 0.23630679 0.24760897 0.24007418\n",
      " 0.24337065 0.25601278 0.257076   0.25839167 0.25351737 0.25874122\n",
      " 0.26796066 0.27029586 0.26950451 0.26867918 0.26925206 0.27864626\n",
      " 0.27910748 0.27958811 0.27056288 0.27383021 0.27455359 0.28005904\n",
      " 0.2806222  0.28183592 0.26760139 0.27207275 0.27817048 0.27899582\n",
      " 0.28906971 0.29730845 0.29060871 0.29242929 0.28959889 0.28947266\n",
      " 0.2925361  0.25870347 0.24782878 0.2319591  0.21524301 0.19960025\n",
      " 0.18579242 0.17409214 0.16451493 0.15689771 0.15095347 0.14632705\n",
      " 0.14264679 0.13956673 0.13679525 0.13411121 0.1313687  0.12849261\n",
      " 0.12546787 0.12232468 0.11912263 0.11593541 0.11283767 0.10989522\n",
      " 0.10715863 0.1046601  0.10241336 0.10041555]\n",
      "27 day output [[0.09865066]]\n",
      "28 day input [0.23186942 0.24315704 0.2392974  0.24747789 0.2436134  0.24309878\n",
      " 0.24223461 0.24271039 0.23333074 0.2260824  0.23004399 0.23205391\n",
      " 0.24601171 0.23768072 0.23032071 0.22897106 0.22587364 0.22684461\n",
      " 0.23377739 0.231248   0.2283205  0.22546583 0.23237919 0.22614551\n",
      " 0.22721359 0.24195788 0.24673994 0.25764888 0.25768286 0.25825574\n",
      " 0.2600569  0.25251726 0.25963452 0.25780423 0.25675072 0.26375632\n",
      " 0.26129004 0.24623989 0.23630679 0.24760897 0.24007418 0.24337065\n",
      " 0.25601278 0.257076   0.25839167 0.25351737 0.25874122 0.26796066\n",
      " 0.27029586 0.26950451 0.26867918 0.26925206 0.27864626 0.27910748\n",
      " 0.27958811 0.27056288 0.27383021 0.27455359 0.28005904 0.2806222\n",
      " 0.28183592 0.26760139 0.27207275 0.27817048 0.27899582 0.28906971\n",
      " 0.29730845 0.29060871 0.29242929 0.28959889 0.28947266 0.2925361\n",
      " 0.25870347 0.24782878 0.2319591  0.21524301 0.19960025 0.18579242\n",
      " 0.17409214 0.16451493 0.15689771 0.15095347 0.14632705 0.14264679\n",
      " 0.13956673 0.13679525 0.13411121 0.1313687  0.12849261 0.12546787\n",
      " 0.12232468 0.11912263 0.11593541 0.11283767 0.10989522 0.10715863\n",
      " 0.1046601  0.10241336 0.10041555 0.09865066]\n",
      "28 day output [[0.09709345]]\n",
      "29 day input [0.24315704 0.2392974  0.24747789 0.2436134  0.24309878 0.24223461\n",
      " 0.24271039 0.23333074 0.2260824  0.23004399 0.23205391 0.24601171\n",
      " 0.23768072 0.23032071 0.22897106 0.22587364 0.22684461 0.23377739\n",
      " 0.231248   0.2283205  0.22546583 0.23237919 0.22614551 0.22721359\n",
      " 0.24195788 0.24673994 0.25764888 0.25768286 0.25825574 0.2600569\n",
      " 0.25251726 0.25963452 0.25780423 0.25675072 0.26375632 0.26129004\n",
      " 0.24623989 0.23630679 0.24760897 0.24007418 0.24337065 0.25601278\n",
      " 0.257076   0.25839167 0.25351737 0.25874122 0.26796066 0.27029586\n",
      " 0.26950451 0.26867918 0.26925206 0.27864626 0.27910748 0.27958811\n",
      " 0.27056288 0.27383021 0.27455359 0.28005904 0.2806222  0.28183592\n",
      " 0.26760139 0.27207275 0.27817048 0.27899582 0.28906971 0.29730845\n",
      " 0.29060871 0.29242929 0.28959889 0.28947266 0.2925361  0.25870347\n",
      " 0.24782878 0.2319591  0.21524301 0.19960025 0.18579242 0.17409214\n",
      " 0.16451493 0.15689771 0.15095347 0.14632705 0.14264679 0.13956673\n",
      " 0.13679525 0.13411121 0.1313687  0.12849261 0.12546787 0.12232468\n",
      " 0.11912263 0.11593541 0.11283767 0.10989522 0.10715863 0.1046601\n",
      " 0.10241336 0.10041555 0.09865066 0.09709345]\n",
      "29 day output [[0.09571358]]\n"
     ]
    }
   ],
   "source": [
    "from numpy import array\n",
    "\n",
    "Predict=[]\n",
    "steps=100\n",
    "i=0\n",
    "while(i<30):\n",
    "    \n",
    "    if(len(temp_input)>steps):\n",
    "        #print(temp_input)\n",
    "        x_input=np.array(temp_input[1:])\n",
    "        print(\"{} day input {}\".format(i,x_input))\n",
    "        x_input=x_input.reshape(1,-1)\n",
    "        x_input = x_input.reshape((1, steps, 1))\n",
    "        #print(x_input)\n",
    "        yhat = model.predict(x_input, verbose=0)\n",
    "        print(\"{} day output {}\".format(i,yhat))\n",
    "        temp_input.extend(yhat[0].tolist())\n",
    "        temp_input=temp_input[1:]\n",
    "        #print(temp_input)\n",
    "        Predict.extend(yhat.tolist())\n",
    "        i=i+1\n",
    "    else:\n",
    "        x_input = x_input.reshape((1, steps,1))\n",
    "        yhat = model.predict(x_input, verbose=0)\n",
    "        print(yhat[0])\n",
    "        temp_input.extend(yhat[0].tolist())\n",
    "        print(len(temp_input))\n",
    "        Predict.extend(yhat.tolist())\n",
    "        i=i+1"
   ]
  },
  {
   "cell_type": "code",
   "execution_count": 24,
   "id": "52f74345-93d3-4d7a-9cf3-862a00b02f36",
   "metadata": {},
   "outputs": [
    {
     "data": {
      "text/plain": [
       "[<matplotlib.lines.Line2D at 0x2b3573474c8>]"
      ]
     },
     "execution_count": 24,
     "metadata": {},
     "output_type": "execute_result"
    },
    {
     "data": {
      "image/png": "[encoded data removed]",
      "text/plain": [
       "<Figure size 432x288 with 1 Axes>"
      ]
     },
     "metadata": {
      "needs_background": "light"
     },
     "output_type": "display_data"
    }
   ],
   "source": [
    "day_new=np.arange(1,101)\n",
    "day_pred=np.arange(101,131)\n",
    "import matplotlib.pyplot as plt\n",
    "plt.plot(day_new,scaler.inverse_transform(data[1157:]))\n",
    "plt.plot(day_pred,scaler.inverse_transform(Predict))"
   ]
  },
  {
   "cell_type": "markdown",
   "id": "24163ed2-eb61-4f68-a110-85df55f9c148",
   "metadata": {},
   "source": [
    "VISUALIZATION"
   ]
  },
  {
   "cell_type": "code",
   "execution_count": 25,
   "id": "6ba8ccf5-b800-403e-9163-6e43f09f12e2",
   "metadata": {},
   "outputs": [
    {
     "data": {
      "text/plain": [
       "[<matplotlib.lines.Line2D at 0x2b35731e0c8>]"
      ]
     },
     "execution_count": 25,
     "metadata": {},
     "output_type": "execute_result"
    },
    {
     "data": {
      "image/png": "[encoded data removed]",
      "text/plain": [
       "<Figure size 432x288 with 1 Axes>"
      ]
     },
     "metadata": {
      "needs_background": "light"
     },
     "output_type": "display_data"
    }
   ],
   "source": [
    "visualize=data.tolist()\n",
    "visualize.extend(Predict)\n",
    "plt.plot(visualize)"
   ]
  },
  {
   "cell_type": "markdown",
   "id": "90096b66-75a5-4730-822a-445dee7c833e",
   "metadata": {},
   "source": [
    "FOCUS ON 30 DAY PREDICTION OF THE STOCK"
   ]
  },
  {
   "cell_type": "code",
   "execution_count": 26,
   "id": "88d4ecda-4ad2-46c5-8e1e-908661167db6",
   "metadata": {},
   "outputs": [
    {
     "data": {
      "text/plain": [
       "[<matplotlib.lines.Line2D at 0x2b359b5e688>]"
      ]
     },
     "execution_count": 26,
     "metadata": {},
     "output_type": "execute_result"
    },
    {
     "data": {
      "image/png": "[encoded data removed]",
      "text/plain": [
       "<Figure size 432x288 with 1 Axes>"
      ]
     },
     "metadata": {
      "needs_background": "light"
     },
     "output_type": "display_data"
    }
   ],
   "source": [
    "plt.plot(visualize[1257:])"
   ]
  },
  {
   "cell_type": "markdown",
   "id": "2b5d6513-18f7-4a63-9c11-847544887f87",
   "metadata": {},
   "source": [
    "SAVING THE PREDICTION AS CSV TO VISUALIZE IN POWERBI"
   ]
  },
  {
   "cell_type": "code",
   "execution_count": 35,
   "id": "9a31fd8c-2fd5-4a9a-843f-b402a8bdeb66",
   "metadata": {},
   "outputs": [],
   "source": [
    "save = pd.DataFrame(scaler.inverse_transform(Predict),columns=[\"predictions\"])"
   ]
  },
  {
   "cell_type": "code",
   "execution_count": 36,
   "id": "44dc5306-50ee-4cef-b815-af52bd6ce1cd",
   "metadata": {},
   "outputs": [
    {
     "data": {
      "text/html": [
       "<div>\n",
       "<style scoped>\n",
       "    .dataframe tbody tr th:only-of-type {\n",
       "        vertical-align: middle;\n",
       "    }\n",
       "\n",
       "    .dataframe tbody tr th {\n",
       "        vertical-align: top;\n",
       "    }\n",
       "\n",
       "    .dataframe thead th {\n",
       "        text-align: right;\n",
       "    }\n",
       "</style>\n",
       "<table border=\"1\" class=\"dataframe\">\n",
       "  <thead>\n",
       "    <tr style=\"text-align: right;\">\n",
       "      <th></th>\n",
       "      <th>predictions</th>\n",
       "    </tr>\n",
       "  </thead>\n",
       "  <tbody>\n",
       "    <tr>\n",
       "      <th>0</th>\n",
       "      <td>711.842234</td>\n",
       "    </tr>\n",
       "    <tr>\n",
       "      <th>1</th>\n",
       "      <td>689.442768</td>\n",
       "    </tr>\n",
       "    <tr>\n",
       "      <th>2</th>\n",
       "      <td>656.754724</td>\n",
       "    </tr>\n",
       "    <tr>\n",
       "      <th>3</th>\n",
       "      <td>622.323251</td>\n",
       "    </tr>\n",
       "    <tr>\n",
       "      <th>4</th>\n",
       "      <td>590.102602</td>\n",
       "    </tr>\n",
       "  </tbody>\n",
       "</table>\n",
       "</div>"
      ],
      "text/plain": [
       "   predictions\n",
       "0   711.842234\n",
       "1   689.442768\n",
       "2   656.754724\n",
       "3   622.323251\n",
       "4   590.102602"
      ]
     },
     "execution_count": 36,
     "metadata": {},
     "output_type": "execute_result"
    }
   ],
   "source": [
    "save.head()"
   ]
  },
  {
   "cell_type": "code",
   "execution_count": 37,
   "id": "f6bb7285-f70c-4e2e-94f7-a2b805f37229",
   "metadata": {},
   "outputs": [],
   "source": [
    "save.to_csv('Pred.csv')"
   ]
  },
  {
   "cell_type": "code",
   "execution_count": null,
   "id": "e373baf9-7042-4671-853d-a158af4d63d6",
   "metadata": {},
   "outputs": [],
   "source": []
  }
 ],
 "metadata": {
  "kernelspec": {
   "display_name": "Python 3",
   "language": "python",
   "name": "python3"
  },
  "language_info": {
   "codemirror_mode": {
    "name": "ipython",
    "version": 3
   },
   "file_extension": ".py",
   "mimetype": "text/x-python",
   "name": "python",
   "nbconvert_exporter": "python",
   "pygments_lexer": "ipython3",
   "version": "3.7.10"
  }
 },
 "nbformat": 4,
 "nbformat_minor": 5
}
